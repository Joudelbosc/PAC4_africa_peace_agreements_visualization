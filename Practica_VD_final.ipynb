{
 "cells": [
  {
   "cell_type": "markdown",
   "metadata": {},
   "source": [
    "# A9: Creació de la visualització i lliurament del projecte (PAC4)"
   ]
  },
  {
   "cell_type": "markdown",
   "metadata": {},
   "source": [
    "> **Joel Rosell Mirmi, jrm8.**"
   ]
  },
  {
   "cell_type": "markdown",
   "metadata": {},
   "source": [
    "## Lliurament d’una URL:"
   ]
  },
  {
   "cell_type": "markdown",
   "metadata": {},
   "source": [
    "### URL de la visualització"
   ]
  },
  {
   "cell_type": "markdown",
   "metadata": {},
   "source": [
    "> [Africa's peace agreements signet after 01/03/0995 with status multi party or unilateral document with category power-sharing](https://public.tableau.com/profile/joel.rosell.mirmi#!/vizhome/Practica_final/Dashboard1?publish=yes)"
   ]
  },
  {
   "cell_type": "markdown",
   "metadata": {},
   "source": [
    "> [Github](https://github.com/Joudelbosc/PAC4_africa_peace_agreements_visualization)"
   ]
  },
  {
   "cell_type": "markdown",
   "metadata": {},
   "source": [
    "### Títol de la visualització"
   ]
  },
  {
   "cell_type": "markdown",
   "metadata": {},
   "source": [
    "> Africa's peace agreements signet after 01/03/0995 with status multi party or unilateral document with category power-sharing, Visualization of group features and human and civil rights."
   ]
  },
  {
   "cell_type": "markdown",
   "metadata": {},
   "source": [
    "## Descripció Curta."
   ]
  },
  {
   "cell_type": "markdown",
   "metadata": {},
   "source": [
    "Primerament he utilitzat Python per filtrar les dades tal com vaig indicar a l'última pac. Tot i que finalment només he utilitzat les dades dels atributs no categòrics, els grups i els drets civils i polítics. El que he fet és crear una visualització en la qual es pugui filtrar per tipus de conflicte, segons els drets civils i polítics i segons la data. Aquest filtre es veuen reflectits en una línia temporal i en els histogrames de totes les variables categòriques. La intenció és tindre una eina per buscar relacions entre els drets polítics i civils i l'estat dels grups en els acords de pau. \n"
   ]
  },
  {
   "cell_type": "markdown",
   "metadata": {},
   "source": [
    "## El resultat final: \n",
    "> Que acompleix i que no acompleix del vostre projecte inicial. Valora l’esforç/resultat que heu invertit i obtingut.\n",
    "\n"
   ]
  },
  {
   "cell_type": "markdown",
   "metadata": {},
   "source": [
    "Ja en la PAC 2 vaig començar a ser conscient que el que tenia per idea principal era molt difícil de plasmar, a la PAC 3 vaig seguir amb la primera idea de fer una visualització té tot el conjunt de dades. Finalment una vegada treballant amb tableau vaig veure que fer una visualització de tot el conjunt de dades utilitzant histogrames, seria molt feixuc. Finalment després d'haver perdut força hores vaig decidir seguir el pla \"B\" traçat a l'última pràctica. Per tant el projecte no acompleix el pla original, però sí que acompleix el pla \"B\", tot i que no estic molt content amb els resultats. Si hagués de tornar a començar el projecte des de la\n",
    "PAC1 no ho tornaria a fer amb Tableau, ja que aquest m'ha comportat força hores a part per l'aprenentatge de les features bàsiques del programa he tingut força problemes amb els arxius, en algun cas he hagut de refer gran part del qual ja havia fet com que per alguna raó s'havia corromput la pàgina la font de dades sense que jo fes cap modificació."
   ]
  },
  {
   "cell_type": "markdown",
   "metadata": {},
   "source": [
    "### Expliqueu què heu après amb aquest projecte. Quines limitacions heu trobat? Tècniques? Conceptuals?"
   ]
  },
  {
   "cell_type": "markdown",
   "metadata": {},
   "source": [
    "Certament la dificultat més gran que m'he trobat ha sigut al nombre d'atributs dels quals disposa el set de dades, en un primer moment vaig preparar el projecte per fer una visualització de tots els seus atributs. Un cop enteses les dades, he vist que representar-les totes de la manera que tenia pensat, amb histogrames, seria una visualització molt feixuga, per aquesta raó i també perquè la meva experiència amb Tableau és la que he anat adquirint durant aquest curs vaig decidir reduir el nombre d'atributs que utilitzaria per fer la visualització.\n",
    "Amb una altra conjuntura que no fos la de l'assignatura no hauria fet la feina amb Tableau, però per aprendre a utilitzar l'eina finalment he decidit utilitzar Tableau. \n",
    "Una altra dificultat han sigut el tipus de dades, ja que pràcticament totes les dades a visualitzar són categòriques això ens treu una característica important en una visualització que és la varietat, per atreure l'atenció de la persona que està visualitzant. Tal com està ara fet amb histogrames, una vegada el visualitzador entén l'histograma ja entén la totalitat de la visualització. \n",
    "\n",
    "M'he trobat dues limitacions importants, una ha sigut el rendiment del meu equip que a l'hora de fer tots els gràfics i filtres per la visualització en certs moments l'equip anava molt carregat i m'ha donat problemes, un d'ells va ser un error en la càrrega de dades un cop ja tenia pràcticament la visualització finalitzada. \n",
    "El segon impediment ha sigut el Tableau, ja que les seves opcions d'anàlisis (Almenys fins on he arribat jo) són força limitades. Per exemple a la PAC anterior ja vaig veure que el nombre d'atributs era massiu, però Python em permet gràfica de manera iterativa atributs que requereixin la mateixa visualització. "
   ]
  },
  {
   "cell_type": "markdown",
   "metadata": {},
   "source": [
    "## Descripció tècnica del projecte:"
   ]
  },
  {
   "cell_type": "markdown",
   "metadata": {},
   "source": [
    "El projecte ha estat realitzat amb Tableau i Python. En la primera fase s'ha utilitzat el Python, per fer un primer anàlisis i una aproximació a les dades. Tot seguit he utilitzat Python per per filtrar les dades segons vaig comentar a l'última pràctica. \n",
    "Un cop les dades estan filtrades he carregat el set de dades resultant al Tableau, amb una sola taula. La visualització consta de dues línies temporals la primera té tots els filtres que afecten totes les visualitzacions i la segona és una línia temporal en un format vertical amb informació addicional."
   ]
  },
  {
   "cell_type": "markdown",
   "metadata": {},
   "source": [
    "## Visualització realitzada"
   ]
  },
  {
   "cell_type": "markdown",
   "metadata": {},
   "source": [
    "La visualització final consta de 4 parts:\n",
    "* Els filtres\n",
    "> Estan a la part superior esquerra, permeten filtrar les dades segons els valors de les variables de drets humans i civils.\n",
    "* La línia temporal horitzontal\n",
    "> Està a la part superior. Permet fer-se una idea del que s'està visualitzant.\n",
    "* La línia temporal vertical\n",
    "> Està a la part esquerra, dóna informació addicional que complementa la línia temporal principal.\n",
    "* Els histogrames\n",
    "> Estan a la part dreta de la visualització. Ens permet veure la freqüència en què apareixen les categories dels grups."
   ]
  },
  {
   "cell_type": "markdown",
   "metadata": {},
   "source": [
    "Es important que per analitzar la visualització es disposi del seguent document.\n",
    "\n",
    "> [PEACE AGREEMENTS DATABASE](https://www.peaceagreements.org/files/PA-X%20codebook%20Version4.pdf)"
   ]
  },
  {
   "cell_type": "markdown",
   "metadata": {},
   "source": [
    "## Lliurament de tot el codi juntament amb l’entrega:"
   ]
  },
  {
   "cell_type": "code",
   "execution_count": 7,
   "metadata": {},
   "outputs": [],
   "source": [
    "import pandas as pd\n",
    "from datetime import datetime\n",
    "\n",
    "%matplotlib inline"
   ]
  },
  {
   "cell_type": "code",
   "execution_count": 8,
   "metadata": {},
   "outputs": [],
   "source": [
    "df = pd.read_csv('untrash_pax_data_102_agreements_27-10-20.csv')\n",
    "df['Dat'] = pd.to_datetime(df['Dat'])\n",
    "df = df.drop(df.columns[0], axis=1)"
   ]
  },
  {
   "cell_type": "code",
   "execution_count": 3,
   "metadata": {},
   "outputs": [],
   "source": [
    "c_a_p_rights = [col for col in df.columns if 'Cpr' in col]\n",
    "groups = [col for col in df.columns if 'G' in col[0]]"
   ]
  },
  {
   "cell_type": "code",
   "execution_count": 4,
   "metadata": {},
   "outputs": [],
   "source": [
    "cols = [\"Con\",\"Contp\",\"PPName\",\"Reg\",\"AgtId\",\"Agt\",\"Dat\",\"Lgt\",\"N_characters\",\"Agtp\",\"Stage\",\"StageSub\",\"Loc1ISO\"]"
   ]
  },
  {
   "cell_type": "code",
   "execution_count": 9,
   "metadata": {},
   "outputs": [
    {
     "name": "stdout",
     "output_type": "stream",
     "text": [
      "<class 'pandas.core.frame.DataFrame'>\n",
      "RangeIndex: 102 entries, 0 to 101\n",
      "Data columns (total 84 columns):\n",
      " #   Column        Non-Null Count  Dtype         \n",
      "---  ------        --------------  -----         \n",
      " 0   Con           102 non-null    object        \n",
      " 1   Contp         102 non-null    object        \n",
      " 2   PPName        102 non-null    object        \n",
      " 3   Reg           102 non-null    object        \n",
      " 4   AgtId         102 non-null    int64         \n",
      " 5   Agt           102 non-null    object        \n",
      " 6   Dat           102 non-null    datetime64[ns]\n",
      " 7   Lgt           102 non-null    int64         \n",
      " 8   N_characters  102 non-null    int64         \n",
      " 9   Agtp          102 non-null    object        \n",
      " 10  Stage         102 non-null    object        \n",
      " 11  StageSub      98 non-null     object        \n",
      " 12  Loc1ISO       102 non-null    object        \n",
      " 13  GCh           102 non-null    int64         \n",
      " 14  GChRhet       102 non-null    int64         \n",
      " 15  GChAntid      102 non-null    int64         \n",
      " 16  GChSubs       102 non-null    int64         \n",
      " 17  GChOth        102 non-null    int64         \n",
      " 18  GDis          102 non-null    int64         \n",
      " 19  GDisRhet      102 non-null    int64         \n",
      " 20  GDisAntid     102 non-null    int64         \n",
      " 21  GDisSubs      102 non-null    int64         \n",
      " 22  GDisOth       102 non-null    int64         \n",
      " 23  GAge          102 non-null    int64         \n",
      " 24  GAgeRhet      102 non-null    int64         \n",
      " 25  GAgeAntid     102 non-null    int64         \n",
      " 26  GAgeSubs      102 non-null    int64         \n",
      " 27  GAgeOth       102 non-null    int64         \n",
      " 28  GMig          102 non-null    int64         \n",
      " 29  GMigRhet      102 non-null    int64         \n",
      " 30  GMigAntid     102 non-null    int64         \n",
      " 31  GMigSubs      102 non-null    int64         \n",
      " 32  GMigOth       102 non-null    int64         \n",
      " 33  GRa           102 non-null    int64         \n",
      " 34  GRaRhet       102 non-null    int64         \n",
      " 35  GRaAntid      102 non-null    int64         \n",
      " 36  GRaSubs       102 non-null    int64         \n",
      " 37  GRaOth        102 non-null    int64         \n",
      " 38  GRe           102 non-null    int64         \n",
      " 39  GReRhet       102 non-null    int64         \n",
      " 40  GReAntid      102 non-null    int64         \n",
      " 41  GReSubs       102 non-null    int64         \n",
      " 42  GReOth        102 non-null    int64         \n",
      " 43  GInd          102 non-null    int64         \n",
      " 44  GIndRhet      102 non-null    int64         \n",
      " 45  GIndAntid     102 non-null    int64         \n",
      " 46  GIndSubs      102 non-null    int64         \n",
      " 47  GIndOth       102 non-null    int64         \n",
      " 48  GOth          102 non-null    int64         \n",
      " 49  GOthRhet      102 non-null    int64         \n",
      " 50  GOthAntid     102 non-null    int64         \n",
      " 51  GOthSubs      102 non-null    int64         \n",
      " 52  GOthOth       102 non-null    int64         \n",
      " 53  GRef          102 non-null    int64         \n",
      " 54  GRefRhet      102 non-null    int64         \n",
      " 55  GRefSubs      102 non-null    int64         \n",
      " 56  GRefOth       102 non-null    int64         \n",
      " 57  GSoc          102 non-null    int64         \n",
      " 58  GSocRhet      102 non-null    int64         \n",
      " 59  GSocAntid     102 non-null    int64         \n",
      " 60  GSocSubs      102 non-null    int64         \n",
      " 61  GSocOth       102 non-null    int64         \n",
      " 62  GeWom         102 non-null    int64         \n",
      " 63  GeMe          102 non-null    int64         \n",
      " 64  GeMeNu        102 non-null    int64         \n",
      " 65  GeMeOth       102 non-null    int64         \n",
      " 66  GeLgbti       102 non-null    int64         \n",
      " 67  GeLgbtiPos    102 non-null    int64         \n",
      " 68  GeLgbtiNeg    102 non-null    int64         \n",
      " 69  GeFa          102 non-null    int64         \n",
      " 70  CprLife       102 non-null    int64         \n",
      " 71  CprTort       102 non-null    int64         \n",
      " 72  CprEq         102 non-null    int64         \n",
      " 73  CprSlav       102 non-null    int64         \n",
      " 74  CprLib        102 non-null    int64         \n",
      " 75  CprDet        102 non-null    int64         \n",
      " 76  CprFmov       102 non-null    int64         \n",
      " 77  CprFspe       102 non-null    int64         \n",
      " 78  CprFass       102 non-null    int64         \n",
      " 79  CprTria       102 non-null    int64         \n",
      " 80  CprPriv       102 non-null    int64         \n",
      " 81  CprVote       102 non-null    int64         \n",
      " 82  CprReli       102 non-null    int64         \n",
      " 83  CprOth        102 non-null    int64         \n",
      "dtypes: datetime64[ns](1), int64(74), object(9)\n",
      "memory usage: 67.1+ KB\n"
     ]
    }
   ],
   "source": [
    "df[cols + groups + c_a_p_rights].info()"
   ]
  },
  {
   "cell_type": "code",
   "execution_count": 6,
   "metadata": {},
   "outputs": [],
   "source": [
    "df[cols + groups + c_a_p_rights].to_csv(\"final_atributes_csv\",index=False)"
   ]
  },
  {
   "cell_type": "code",
   "execution_count": null,
   "metadata": {},
   "outputs": [],
   "source": []
  }
 ],
 "metadata": {
  "kernelspec": {
   "display_name": "Python 3",
   "language": "python",
   "name": "python3"
  },
  "language_info": {
   "codemirror_mode": {
    "name": "ipython",
    "version": 3
   },
   "file_extension": ".py",
   "mimetype": "text/x-python",
   "name": "python",
   "nbconvert_exporter": "python",
   "pygments_lexer": "ipython3",
   "version": "3.8.5"
  }
 },
 "nbformat": 4,
 "nbformat_minor": 4
}
